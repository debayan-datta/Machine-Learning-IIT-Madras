{
  "nbformat": 4,
  "nbformat_minor": 0,
  "metadata": {
    "colab": {
      "provenance": []
    },
    "kernelspec": {
      "name": "python3",
      "display_name": "Python 3"
    },
    "language_info": {
      "name": "python"
    }
  },
  "cells": [
    {
      "cell_type": "code",
      "execution_count": 1,
      "metadata": {
        "id": "3TDibK0Yrxm_"
      },
      "outputs": [],
      "source": [
        "import numpy as np\n",
        "import matplotlib.pyplot as plt\n"
      ]
    },
    {
      "cell_type": "markdown",
      "source": [
        "# Week-6\n",
        "\n",
        "**Note:**:\n",
        "\n",
        "- For questions that involve plotting, just enter $0$ as the answer in the portal.\n",
        "\n"
      ],
      "metadata": {
        "id": "1TBHlt7hAdN1"
      }
    },
    {
      "cell_type": "markdown",
      "source": [
        "## Dataset\n",
        "\n",
        "Run the cell given below to generate the data-matrix $X$ and target vector $y$. $X$ is of shape $(n, d)$, where $n$ denotes the number of samples and $d$ denotes the number of features. $y$ is of shape $(n,)$. You will be using this dataset for the rest of the assignment.\n",
        "\n",
        "**Do not edit this cell.**"
      ],
      "metadata": {
        "id": "XJKrscLo9qwH"
      }
    },
    {
      "cell_type": "code",
      "source": [
        "from sklearn.datasets import load_diabetes\n",
        "X, y = load_diabetes(return_X_y = True)\n",
        "\n",
        "# set the random seed value to 0\n",
        "np.random.seed(0)"
      ],
      "metadata": {
        "id": "GIygEzr49Xvf"
      },
      "execution_count": 2,
      "outputs": []
    },
    {
      "cell_type": "markdown",
      "source": [
        "## Problem 1\n",
        "How many samples are there in the dataset?\n",
        "\n"
      ],
      "metadata": {
        "id": "VAONMkaU91v7"
      }
    },
    {
      "cell_type": "markdown",
      "source": [
        "## Solution"
      ],
      "metadata": {
        "id": "LnXmn5t-V8Us"
      }
    },
    {
      "cell_type": "code",
      "source": [
        "# Write your solution code here\n",
        "X.shape[0]"
      ],
      "metadata": {
        "id": "U_WEAtwXDqVF",
        "colab": {
          "base_uri": "https://localhost:8080/"
        },
        "outputId": "6f631dfe-89db-47ff-bd5a-7035827bd7d6"
      },
      "execution_count": 4,
      "outputs": [
        {
          "output_type": "execute_result",
          "data": {
            "text/plain": [
              "442"
            ]
          },
          "metadata": {},
          "execution_count": 4
        }
      ]
    },
    {
      "cell_type": "markdown",
      "source": [
        "## Problem 2\n",
        "\n",
        "How many features are there in the dataset?\n",
        "\n"
      ],
      "metadata": {
        "id": "ozjMS6e_91y3"
      }
    },
    {
      "cell_type": "markdown",
      "source": [
        "## Solution"
      ],
      "metadata": {
        "id": "xvFvIHN9V_s7"
      }
    },
    {
      "cell_type": "code",
      "source": [
        "# Write your solution code here\n",
        "X.shape[1]"
      ],
      "metadata": {
        "id": "ii_yZn4N-Di8",
        "colab": {
          "base_uri": "https://localhost:8080/"
        },
        "outputId": "01100d01-d972-46bf-9f2d-9e3f5c970a20"
      },
      "execution_count": 5,
      "outputs": [
        {
          "output_type": "execute_result",
          "data": {
            "text/plain": [
              "10"
            ]
          },
          "metadata": {},
          "execution_count": 5
        }
      ]
    },
    {
      "cell_type": "markdown",
      "source": [
        "## Problem 3\n",
        "Write a function `shuffle_data(X, y)` that returns the shuffled $X$ and $y$.\n",
        "\n",
        "Note that it should shuffle the data pairs $(x_i, y_i)$.\n",
        "\n",
        "What will be the mean of the first 5 values in $y$?\n",
        "\n"
      ],
      "metadata": {
        "id": "HxIZaojUVGIL"
      }
    },
    {
      "cell_type": "code",
      "source": [
        "# Write your solution code here\n",
        "def shuffle_data(X, y):\n",
        "    assert len(X) == len(y)\n",
        "    indices = np.random.permutation(len(X))  # Generate a permutation of indices\n",
        "    return X[indices], y[indices]\n",
        "\n",
        "X_shuffled, y_shuffled = shuffle_data(X, y)\n",
        "mean_first_5_y = np.mean(y_shuffled[:5])\n",
        "print(\"Mean of first 5 values in y after shuffle:\", mean_first_5_y)"
      ],
      "metadata": {
        "id": "uLGsJyGkdgug",
        "colab": {
          "base_uri": "https://localhost:8080/"
        },
        "outputId": "eef8ab66-ab7d-4617-e651-2103b4cbb5d8"
      },
      "execution_count": 6,
      "outputs": [
        {
          "output_type": "stream",
          "name": "stdout",
          "text": [
            "Mean of first 5 values in y after shuffle: 180.4\n"
          ]
        }
      ]
    },
    {
      "cell_type": "markdown",
      "source": [
        "## Problem 4\n",
        "\n",
        "Write a function `train_test_split(X, y, test_size)` that divides the data (X, y) into $X_{train}$, $X_{test}$, $y_{train}$, $y_{test}$ respectively as per test_size which should be a value between 0 and 1.\n",
        "\n",
        "That is, if test_size = $t$, then `int(t*n)` data points should go to test and the remaining data points should go to train.\n",
        "\n",
        "$X_{train}$, $X_{test}$, $y_{train}$, $y_{test}$ should be returned by the function.\n",
        "\n",
        "Set the test_size to be 0.25 and output the sum of all y values settling in $y_{test}$.\n",
        "\n",
        "\n",
        "\n",
        "\n",
        "\n",
        "\n"
      ],
      "metadata": {
        "id": "pfsUsn_8WSXZ"
      }
    },
    {
      "cell_type": "code",
      "source": [
        "# Write your solution code here\n",
        "\n",
        "def train_test_split(X, y, test_size):\n",
        "    assert 0 < test_size < 1, \"test_size must be between 0 and 1\"\n",
        "    assert len(X) == len(y), \"X and y must have the same length\"\n",
        "\n",
        "    # Shuffle the data first\n",
        "    X_shuffled, y_shuffled = shuffle_data(X, y)\n",
        "\n",
        "    n_samples = len(X)\n",
        "    test_count = int(test_size * n_samples)\n",
        "\n",
        "    X_test = X_shuffled[:test_count]\n",
        "    y_test = y_shuffled[:test_count]\n",
        "    X_train = X_shuffled[test_count:]\n",
        "    y_train = y_shuffled[test_count:]\n",
        "\n",
        "    return X_train, X_test, y_train, y_test\n",
        "\n",
        "\n",
        "X_train, X_test, y_train, y_test = train_test_split(X, y, test_size=0.25)\n",
        "sum_y_test = np.sum(y_test)\n",
        "print(\"Sum of y_test values:\", sum_y_test)\n"
      ],
      "metadata": {
        "id": "Y5VZVbT8dg2b",
        "colab": {
          "base_uri": "https://localhost:8080/"
        },
        "outputId": "69e5801d-ed9a-4dea-cd41-653831e860de"
      },
      "execution_count": 7,
      "outputs": [
        {
          "output_type": "stream",
          "name": "stdout",
          "text": [
            "Sum of y_test values: 17178.0\n"
          ]
        }
      ]
    },
    {
      "cell_type": "markdown",
      "source": [
        "## Problem 5\n",
        "\n",
        "What are the shapes of $X_{train}$, $X_{test}$, $y_{train}$, $y_{test}$ respectively?\n",
        "\n"
      ],
      "metadata": {
        "id": "D67g0r9ad8Ea"
      }
    },
    {
      "cell_type": "code",
      "source": [
        "# Write your solution code here\n",
        "print(X_train.shape)\n",
        "print(X_test.shape)\n",
        "print(y_train.shape)\n",
        "print(y_test.shape)\n"
      ],
      "metadata": {
        "id": "kTPAakKblF7q",
        "colab": {
          "base_uri": "https://localhost:8080/"
        },
        "outputId": "6d38fe21-8f3c-4710-f60c-8dda53f26e39"
      },
      "execution_count": 8,
      "outputs": [
        {
          "output_type": "stream",
          "name": "stdout",
          "text": [
            "(332, 10)\n",
            "(110, 10)\n",
            "(332,)\n",
            "(110,)\n"
          ]
        }
      ]
    },
    {
      "cell_type": "markdown",
      "source": [
        "## Problem 6\n",
        "Add a dummy feature, i.e., a column containing all 1's (as the first column) in $X_{train}$ and $X_{test}$.\n",
        "\n",
        "Take the transpose of both $X_{train}$ and $X_{test}$.\n",
        "\n",
        "What are the shapes of $X_{train}$ and $X_{test}$?\n",
        "\n"
      ],
      "metadata": {
        "id": "nYgSo6DLe0n-"
      }
    },
    {
      "cell_type": "code",
      "source": [
        "# Write your solution code here\n",
        "def add_dummy_and_transpose(X_train, X_test):\n",
        "    # Add dummy feature (column of 1's) to the beginning\n",
        "    ones_train = np.ones((X_train.shape[0], 1))\n",
        "    ones_test = np.ones((X_test.shape[0], 1))\n",
        "\n",
        "    X_train_new = np.hstack((ones_train, X_train))\n",
        "    X_test_new = np.hstack((ones_test, X_test))\n",
        "\n",
        "    # Transpose\n",
        "    X_train_T = X_train_new.T\n",
        "    X_test_T = X_test_new.T\n",
        "\n",
        "    return X_train_T, X_test_T\n",
        "\n",
        "X_train_T, X_test_T = add_dummy_and_transpose(X_train, X_test)\n",
        "print(\"Shape of X_train:\", X_train_T.shape)\n",
        "print(\"Shape of X_test:\", X_test_T.shape)"
      ],
      "metadata": {
        "id": "Lgv2V9qnnNv3",
        "colab": {
          "base_uri": "https://localhost:8080/"
        },
        "outputId": "ef3c8273-ec59-4650-9899-7e98f5fe03e7"
      },
      "execution_count": 9,
      "outputs": [
        {
          "output_type": "stream",
          "name": "stdout",
          "text": [
            "Shape of X_train: (11, 332)\n",
            "Shape of X_test: (11, 110)\n"
          ]
        }
      ]
    },
    {
      "cell_type": "markdown",
      "source": [
        "## Problem 7\n",
        "\n",
        "Write a function `compute_weights(X, y)` that uses the closed form formula of linear regression and returns a weight vector.\n",
        "\n",
        "Call this function by passing $X_{train}$ and $y_{train}$. As the dummy feature was added as the first column, the first value in the weight vector will be the intercept. What is its value (rounded to one decimal place)?\n",
        "\n"
      ],
      "metadata": {
        "id": "mYY6hNkYf7gr"
      }
    },
    {
      "cell_type": "code",
      "source": [
        "# Write your solution code here\n",
        "def compute_weights(X, y):\n",
        "    # X: shape (d, n), y: shape (n,)\n",
        "    X = np.array(X)\n",
        "    y = np.array(y).reshape(-1, 1)  # reshape to (n, 1)\n",
        "\n",
        "    # Closed-form linear regression solution\n",
        "    XtX_inv = np.linalg.inv(X @ X.T)\n",
        "    w = XtX_inv @ X @ y  # shape: (d, 1)\n",
        "\n",
        "    return w.flatten()  # return as 1D array for easier reading\n",
        "\n",
        "weights = compute_weights(X_train_T, y_train)\n",
        "intercept = round(weights[0], 1)\n",
        "print(\"Intercept (rounded to 1 decimal place):\", intercept)\n"
      ],
      "metadata": {
        "id": "XWxPR8N5nc17",
        "colab": {
          "base_uri": "https://localhost:8080/"
        },
        "outputId": "ba838645-dbae-43e2-b0f9-35318c7bb994"
      },
      "execution_count": 10,
      "outputs": [
        {
          "output_type": "stream",
          "name": "stdout",
          "text": [
            "Intercept (rounded to 1 decimal place): 151.7\n"
          ]
        }
      ]
    },
    {
      "cell_type": "markdown",
      "source": [
        "## Problem 8\n",
        "\n",
        "Write a function `MSE(X, y, w)` that returns the mean squared error for the given `X`, `y` as per `w` values.\n",
        "\n",
        "Using this function, compute the train error and test error.\n",
        "\n",
        "Note: Here `y` is the true `y` for `X`.\n",
        "\n",
        "Compute both train and test error.\n",
        "\n",
        "What is the value of test error?\n"
      ],
      "metadata": {
        "id": "XUKviVRZoh2j"
      }
    },
    {
      "cell_type": "code",
      "source": [
        "# Write your solution code here\n",
        "\n",
        "def MSE(X, y, w):\n",
        "    # X: shape (d, n), w: shape (d,), y: shape (n,)\n",
        "    X = np.array(X)\n",
        "    y = np.array(y).reshape(-1)\n",
        "    w = np.array(w).reshape(-1)\n",
        "\n",
        "    y_pred = X.T @ w  # shape: (n,)\n",
        "    mse = np.mean((y - y_pred) ** 2)\n",
        "    return mse\n",
        "\n",
        "train_error = MSE(X_train_T, y_train, weights)\n",
        "test_error = MSE(X_test_T, y_test, weights)\n",
        "\n",
        "print(\"Train error (MSE):\", train_error)\n",
        "print(\"Test error (MSE):\", test_error)\n"
      ],
      "metadata": {
        "id": "PkAULslJD48q",
        "colab": {
          "base_uri": "https://localhost:8080/"
        },
        "outputId": "11d49ef0-1d9d-401c-c0f5-0f5154a96784"
      },
      "execution_count": 11,
      "outputs": [
        {
          "output_type": "stream",
          "name": "stdout",
          "text": [
            "Train error (MSE): 2831.7294119891767\n",
            "Test error (MSE): 2997.103525879682\n"
          ]
        }
      ]
    },
    {
      "cell_type": "markdown",
      "source": [
        "## Problem 9\n",
        "\n",
        "Write a function `compute_weights_ridge(X, y)` that uses the closed form formula of Ridge regression and returns a weight vector.\n",
        "\n",
        "Call this function by passing  `X_train`, `y_train` and 0.3 as the value of regularization strength.\n",
        "\n",
        "\n",
        "Find the sum of values in the weight vector obtained. How much reduction in total sum of weights is achieved with respect to the the weight vector obtained from 'plain' linear regression (without regularization) computed earlier.\n"
      ],
      "metadata": {
        "id": "mZZVbejulHyv"
      }
    },
    {
      "cell_type": "code",
      "source": [
        "# Write your solution code here\n",
        "\n",
        "def compute_weights_ridge(X, y, lambda_):\n",
        "    X = np.array(X)\n",
        "    y = np.array(y).reshape(-1, 1)\n",
        "    d = X.shape[0]\n",
        "\n",
        "    I = np.eye(d)\n",
        "    XtX_lambda = X @ X.T + lambda_ * I\n",
        "    w_ridge = np.linalg.inv(XtX_lambda) @ X @ y\n",
        "    return w_ridge.flatten()\n",
        "\n",
        "\n",
        "lambda_ = 0.3\n",
        "weights_ridge = compute_weights_ridge(X_train_T, y_train, lambda_)\n",
        "\n",
        "# Compare sum of weights\n",
        "sum_plain = np.sum(weights)\n",
        "sum_ridge = np.sum(weights_ridge)\n",
        "\n",
        "reduction = sum_plain - sum_ridge\n",
        "\n",
        "print(\"Sum of plain weights:\", sum_plain)\n",
        "print(\"Sum of ridge weights:\", sum_ridge)\n",
        "print(\"Reduction in total sum of weights:\", reduction)\n"
      ],
      "metadata": {
        "id": "LCyCWK9dqZm1",
        "colab": {
          "base_uri": "https://localhost:8080/"
        },
        "outputId": "b59202db-2590-48b1-e36f-20d0d4f8054e"
      },
      "execution_count": 12,
      "outputs": [
        {
          "output_type": "stream",
          "name": "stdout",
          "text": [
            "Sum of plain weights: 1683.622703630017\n",
            "Sum of ridge weights: 1005.0193562884089\n",
            "Reduction in total sum of weights: 678.6033473416081\n"
          ]
        }
      ]
    },
    {
      "cell_type": "markdown",
      "source": [
        "## Problem 10\n",
        "\n",
        "Compute the train error and test error. What is their absolute difference?\n",
        "\n"
      ],
      "metadata": {
        "id": "LC9Au6sPt1oT"
      }
    },
    {
      "cell_type": "code",
      "source": [
        "# Write your solution code here\n",
        "\n",
        "# Get Ridge weights\n",
        "weights_ridge = compute_weights_ridge(X_train_T, y_train, lambda_=0.3)\n",
        "\n",
        "# Compute errors\n",
        "train_error_ridge = MSE(X_train_T, y_train, weights_ridge)\n",
        "test_error_ridge = MSE(X_test_T, y_test, weights_ridge)\n",
        "\n",
        "# Compute absolute difference\n",
        "abs_diff = abs(train_error_ridge - test_error_ridge)\n",
        "\n",
        "print(\"Train error (Ridge):\", train_error_ridge)\n",
        "print(\"Test error (Ridge):\", test_error_ridge)\n",
        "print(\"Absolute difference:\", abs_diff)\n"
      ],
      "metadata": {
        "id": "iOUjJJpZ3BaZ",
        "colab": {
          "base_uri": "https://localhost:8080/"
        },
        "outputId": "bc109654-d09a-46ae-be56-003554ca094f"
      },
      "execution_count": 13,
      "outputs": [
        {
          "output_type": "stream",
          "name": "stdout",
          "text": [
            "Train error (Ridge): 2984.3059851079774\n",
            "Test error (Ridge): 3047.386380756701\n",
            "Absolute difference: 63.080395648723425\n"
          ]
        }
      ]
    },
    {
      "cell_type": "markdown",
      "source": [
        "## Problem 11\n",
        "\n",
        "Use 10 different values between 0 and 5 as the regularization strength and keep a record of the weight vectors obtained for each. Further, calculate the sum of weights for each weight vector.\n",
        "\n",
        "Plot these sums of weights (on y-axis) with respect to the regularization strength (on x-axis) and observe the reduction in (sum of) weights.\n",
        "\n"
      ],
      "metadata": {
        "id": "Wn6-FG5puh8O"
      }
    },
    {
      "cell_type": "code",
      "source": [
        "# Write your solution code here\n",
        "import numpy as np\n",
        "import matplotlib.pyplot as plt\n",
        "\n",
        "# Step 1: Generate 10 values between 0 and 5\n",
        "lambdas = np.linspace(0, 5, 10)\n",
        "\n",
        "# Step 2–3: Compute Ridge weights and their sum\n",
        "weight_sums = []\n",
        "\n",
        "for lam in lambdas:\n",
        "    w_ridge = compute_weights_ridge(X_train_T, y_train, lambda_=lam)\n",
        "    weight_sums.append(np.sum(w_ridge))\n",
        "\n",
        "# Step 4: Plot\n",
        "plt.figure(figsize=(8, 5))\n",
        "plt.plot(lambdas, weight_sums, marker='o', linestyle='-', color='b')\n",
        "plt.title(\"Sum of Ridge Weights vs Regularization Strength\")\n",
        "plt.xlabel(\"Regularization Strength (λ)\")\n",
        "plt.ylabel(\"Sum of Weights\")\n",
        "plt.grid(True)\n",
        "plt.show()\n"
      ],
      "metadata": {
        "id": "zlzueWYWwtSi",
        "colab": {
          "base_uri": "https://localhost:8080/",
          "height": 487
        },
        "outputId": "20b270cf-4d44-468c-cd96-1ad7824cea1e"
      },
      "execution_count": 14,
      "outputs": [
        {
          "output_type": "display_data",
          "data": {
            "text/plain": [
              "<Figure size 800x500 with 1 Axes>"
            ],
            "image/png": "[encoded data removed]"
          },
          "metadata": {}
        }
      ]
    },
    {
      "cell_type": "code",
      "source": [],
      "metadata": {
        "id": "NhounIWUigiF"
      },
      "execution_count": null,
      "outputs": []
    }
  ]
}